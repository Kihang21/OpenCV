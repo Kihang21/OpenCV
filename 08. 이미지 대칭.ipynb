{
 "cells": [
  {
   "cell_type": "markdown",
   "id": "13a741b7",
   "metadata": {},
   "source": [
    "# 8. 이미지 대칭"
   ]
  },
  {
   "cell_type": "markdown",
   "id": "72333134",
   "metadata": {},
   "source": [
    "## 좌우 대칭"
   ]
  },
  {
   "cell_type": "code",
   "execution_count": 4,
   "id": "a3f34c43",
   "metadata": {},
   "outputs": [],
   "source": [
    "import cv2\n",
    "img = cv2.imread('cat.jpg')\n",
    "flip_horizontal = cv2.flip(img, 1) # flipCide > 0 : 좌우 대칭 horizontal\n",
    "\n",
    "cv2.imshow('KH21', img)\n",
    "cv2.imshow('flip_horizontal_KH21', flip_horizontal)\n",
    "cv2.waitKey(0)\n",
    "cv2.destroyAllWindows()"
   ]
  },
  {
   "cell_type": "markdown",
   "id": "1e9480e0",
   "metadata": {},
   "source": [
    "## 상하 대칭"
   ]
  },
  {
   "cell_type": "code",
   "execution_count": 5,
   "id": "ad368386",
   "metadata": {},
   "outputs": [],
   "source": [
    "import cv2\n",
    "img = cv2.imread('cat.jpg')\n",
    "flip_vertical = cv2.flip(img, 0) # flipCide = 0 : 상하 대칭 vertical\n",
    "\n",
    "cv2.imshow('KH21', img)\n",
    "cv2.imshow('flip_vertical_KH21', flip_vertical)\n",
    "cv2.waitKey(0)\n",
    "cv2.destroyAllWindows()"
   ]
  },
  {
   "cell_type": "markdown",
   "id": "46c934b1",
   "metadata": {},
   "source": [
    "## 상하좌우 대칭"
   ]
  },
  {
   "cell_type": "code",
   "execution_count": 7,
   "id": "53bbb968",
   "metadata": {},
   "outputs": [],
   "source": [
    "import cv2\n",
    "img = cv2.imread('cat.jpg')\n",
    "flip_both = cv2.flip(img, -1) # flipCide < 0 : 상하좌우 대칭 both (둘다)\n",
    "\n",
    "cv2.imshow('KH21', img)\n",
    "cv2.imshow('flip_both_KH21', flip_both)\n",
    "cv2.waitKey(0)\n",
    "cv2.destroyAllWindows()"
   ]
  }
 ],
 "metadata": {
  "kernelspec": {
   "display_name": "Python 3 (ipykernel)",
   "language": "python",
   "name": "python3"
  },
  "language_info": {
   "codemirror_mode": {
    "name": "ipython",
    "version": 3
   },
   "file_extension": ".py",
   "mimetype": "text/x-python",
   "name": "python",
   "nbconvert_exporter": "python",
   "pygments_lexer": "ipython3",
   "version": "3.11.3"
  }
 },
 "nbformat": 4,
 "nbformat_minor": 5
}
